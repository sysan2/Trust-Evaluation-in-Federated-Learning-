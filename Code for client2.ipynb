{
 "cells": [
  {
   "cell_type": "code",
   "execution_count": null,
   "id": "14d6a4e1",
   "metadata": {},
   "outputs": [],
   "source": [
    "import torch\n",
    "\n",
    "import torch.nn as nn\n",
    "import torch.nn.functional as F\n",
    "import torch.optim as optim\n",
    "\n",
    "from copy import deepcopy\n",
    "\n",
    "import numpy as np\n",
    "import matplotlib.pyplot as plt\n",
    "\n",
    "from create_MNIST_datasets import get_MNIST, plot_samples"
   ]
  },
  {
   "cell_type": "code",
   "execution_count": null,
   "id": "89b313c5",
   "metadata": {},
   "outputs": [],
   "source": [
    "import syft as sy"
   ]
  },
  {
   "cell_type": "code",
   "execution_count": null,
   "id": "5dc270d5",
   "metadata": {},
   "outputs": [],
   "source": [
    "duet = sy.launch_duet(loopback=True)"
   ]
  },
  {
   "cell_type": "code",
   "execution_count": null,
   "id": "494f1b43",
   "metadata": {},
   "outputs": [],
   "source": [
    "mnist_iid_train_dls = torch.load('client2.pth')"
   ]
  },
  {
   "cell_type": "code",
   "execution_count": null,
   "id": "0df37213",
   "metadata": {},
   "outputs": [],
   "source": [
    "class CNN(nn.Module):\n",
    "    def __init__(self):\n",
    "        super(CNN, self).__init__()\n",
    "        self.fc = nn.Linear(784, 10)\n",
    "        \n",
    "    def forward(self, x):\n",
    "        x = torch.flatten(x, 1)\n",
    "        x = self.fc(x)\n",
    "        x = F.softmax(x)\n",
    "        return x\n",
    "\n",
    "model_client = CNN()"
   ]
  },
  {
   "cell_type": "code",
   "execution_count": null,
   "id": "7bda3201",
   "metadata": {},
   "outputs": [],
   "source": [
    "x = duet.store[0].get()"
   ]
  },
  {
   "cell_type": "code",
   "execution_count": null,
   "id": "17e904e3",
   "metadata": {},
   "outputs": [],
   "source": [
    "torch.nn.utils.vector_to_parameters(x,model_client.parameters())"
   ]
  },
  {
   "cell_type": "code",
   "execution_count": null,
   "id": "8864ffe0",
   "metadata": {},
   "outputs": [],
   "source": [
    "def loss_classifier(predictions,labels):\n",
    "    \n",
    "    m = nn.LogSoftmax(dim=1)\n",
    "    loss = nn.NLLLoss(reduction=\"mean\")\n",
    "    \n",
    "    return loss(m(predictions) ,labels.view(-1))"
   ]
  },
  {
   "cell_type": "code",
   "execution_count": null,
   "id": "20873b21",
   "metadata": {},
   "outputs": [],
   "source": [
    "train_data = mnist_iid_train_dls\n",
    "\n",
    "epochs = 10\n",
    "lr =0.1\n",
    "optimizer=optim.SGD(model_client.parameters(),lr=lr) \n",
    "for e in range(epochs): \n",
    "    total_loss = 0\n",
    "    for idx, (features,labels) in enumerate(train_data):\n",
    "        optimizer.zero_grad()\n",
    "        predictions= model_client(features)\n",
    "        loss=loss_classifier(predictions,labels)\n",
    "        total_loss+=loss;\n",
    "        loss.backward()\n",
    "        optimizer.step()\n",
    "    print(total_loss)\n"
   ]
  },
  {
   "cell_type": "code",
   "execution_count": null,
   "id": "a9520113",
   "metadata": {},
   "outputs": [],
   "source": [
    "parameters = torch.nn.utils.parameters_to_vector(model_client.parameters())"
   ]
  },
  {
   "cell_type": "code",
   "execution_count": null,
   "id": "2c1d617e",
   "metadata": {},
   "outputs": [],
   "source": [
    "parameters.send(duet)"
   ]
  },
  {
   "cell_type": "code",
   "execution_count": null,
   "id": "e99d562b",
   "metadata": {},
   "outputs": [],
   "source": [
    "duet.store.pandas"
   ]
  },
  {
   "cell_type": "code",
   "execution_count": null,
   "id": "c82fbd9b",
   "metadata": {},
   "outputs": [],
   "source": [
    "duet.requests.add_handler(action=\"accept\")"
   ]
  }
 ],
 "metadata": {
  "kernelspec": {
   "display_name": "Python 3 (ipykernel)",
   "language": "python",
   "name": "python3"
  },
  "language_info": {
   "codemirror_mode": {
    "name": "ipython",
    "version": 3
   },
   "file_extension": ".py",
   "mimetype": "text/x-python",
   "name": "python",
   "nbconvert_exporter": "python",
   "pygments_lexer": "ipython3",
   "version": "3.8.9"
  }
 },
 "nbformat": 4,
 "nbformat_minor": 5
}
