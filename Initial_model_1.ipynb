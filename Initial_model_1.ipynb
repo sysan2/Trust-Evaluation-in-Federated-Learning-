{
 "cells": [
  {
   "cell_type": "code",
   "execution_count": null,
   "id": "a0c8d643",
   "metadata": {},
   "outputs": [],
   "source": [
    "import torch.nn as nn\n",
    "import torch.nn.functional as F\n",
    "import torch\n",
    "import torchsummary\n",
    "from torchsummary import summary"
   ]
  },
  {
   "cell_type": "code",
   "execution_count": null,
   "id": "eade27fe",
   "metadata": {},
   "outputs": [],
   "source": [
    "class CNN(nn.Module):\n",
    "\n",
    "    def __init__(self):\n",
    "        super(CNN, self).__init__()\n",
    "        self.conv1 = nn.Conv2d(1, 20, 5, 1)\n",
    "        self.conv2 = nn.Conv2d(20, 50, 5, 1)\n",
    "        self.fc1 = nn.Linear(4*4*50, 500)\n",
    "        self.fc2 = nn.Linear(500, 10)\n",
    "\n",
    "    def forward(self, x):\n",
    "        x = F.relu(self.conv1(x))\n",
    "        x = F.max_pool2d(x, 2, 2)\n",
    "        x = F.relu(self.conv2(x))\n",
    "        x = F.max_pool2d(x, 2, 2)\n",
    "        x = x.view(-1, 4*4*50)\n",
    "        x = F.relu(self.fc1(x))\n",
    "        x = self.fc2(x)\n",
    "        return x\n",
    "\n",
    "    \n",
    "model_server = CNN()\n",
    "print(summary(model_server,(1,28,28)))"
   ]
  },
  {
   "cell_type": "code",
   "execution_count": null,
   "id": "5516a541",
   "metadata": {},
   "outputs": [],
   "source": [
    "torch.save(model_server,'initial_model_c.pth')"
   ]
  },
  {
   "cell_type": "markdown",
   "id": "13d02f4e",
   "metadata": {},
   "source": [
    "This is a saved model to be sent to the local clients. We want that all the clients get the same initial model parameter and the train the same model on their data. That is why we are saving the model and the server would load the model and send it to each client. We have used two different mode architecture to see difference in trust score. This model has more fully connected layers that the other model."
   ]
  },
  {
   "cell_type": "code",
   "execution_count": null,
   "id": "4c5fc13b",
   "metadata": {},
   "outputs": [],
   "source": []
  }
 ],
 "metadata": {
  "kernelspec": {
   "display_name": "Python 3 (ipykernel)",
   "language": "python",
   "name": "python3"
  },
  "language_info": {
   "codemirror_mode": {
    "name": "ipython",
    "version": 3
   },
   "file_extension": ".py",
   "mimetype": "text/x-python",
   "name": "python",
   "nbconvert_exporter": "python",
   "pygments_lexer": "ipython3",
   "version": "3.8.9"
  }
 },
 "nbformat": 4,
 "nbformat_minor": 5
}
