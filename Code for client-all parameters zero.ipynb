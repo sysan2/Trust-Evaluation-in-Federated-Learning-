{
 "cells": [
  {
   "cell_type": "markdown",
   "id": "3ab508f8",
   "metadata": {},
   "source": [
    "This code is for the client who is sending all zeros instead of model updates. "
   ]
  },
  {
   "cell_type": "code",
   "execution_count": 1,
   "id": "14d6a4e1",
   "metadata": {},
   "outputs": [],
   "source": [
    "import torch\n",
    "\n",
    "import torch.nn as nn\n",
    "import torch.nn.functional as F\n",
    "import torch.optim as optim\n",
    "\n",
    "from copy import deepcopy\n",
    "\n",
    "import numpy as np\n",
    "import matplotlib.pyplot as plt\n",
    "\n",
    "from create_MNIST_datasets import get_MNIST, plot_samples"
   ]
  },
  {
   "cell_type": "code",
   "execution_count": 2,
   "id": "89b313c5",
   "metadata": {},
   "outputs": [],
   "source": [
    "import syft as sy"
   ]
  },
  {
   "cell_type": "code",
   "execution_count": 3,
   "id": "5dc270d5",
   "metadata": {},
   "outputs": [
    {
     "name": "stdout",
     "output_type": "stream",
     "text": [
      "🎤  🎸  ♪♪♪ Starting Duet ♫♫♫  🎻  🎹\n",
      "\n",
      "♫♫♫ >\u001b[93m DISCLAIMER\u001b[0m: \u001b[1mDuet is an experimental feature currently in beta.\n",
      "♫♫♫ > Use at your own risk.\n",
      "\u001b[0m\n",
      "\u001b[1m\n",
      "    > ❤️ \u001b[91mLove\u001b[0m \u001b[92mDuet\u001b[0m? \u001b[93mPlease\u001b[0m \u001b[94mconsider\u001b[0m \u001b[95msupporting\u001b[0m \u001b[91mour\u001b[0m \u001b[93mcommunity!\u001b[0m\n",
      "    > https://github.com/sponsors/OpenMined\u001b[1m\n",
      "\n",
      "♫♫♫ > Punching through firewall to OpenGrid Network Node at:\n",
      "♫♫♫ > http://ec2-18-218-7-180.us-east-2.compute.amazonaws.com:5000\n",
      "♫♫♫ >\n",
      "♫♫♫ > ...waiting for response from OpenGrid Network... \n",
      "♫♫♫ > \u001b[92mDONE!\u001b[0m\n",
      "\n",
      "♫♫♫ > \u001b[95mSTEP 1:\u001b[0m Send the following code to your Duet Partner!\n",
      "\n",
      "import syft as sy\n",
      "duet = sy.join_duet(loopback=True)\n",
      "\n",
      "♫♫♫ > Connecting...\n"
     ]
    },
    {
     "name": "stderr",
     "output_type": "stream",
     "text": [
      "/Users/syeda/courses/fl/lib/python3.8/site-packages/aiortc/rtcdtlstransport.py:211: CryptographyDeprecationWarning: This version of cryptography contains a temporary pyOpenSSL fallback path. Upgrade pyOpenSSL now.\n",
      "  _openssl_assert(lib.SSL_CTX_use_certificate(ctx, self._cert._x509) == 1)  # type: ignore\n",
      "/Users/syeda/courses/fl/lib/python3.8/site-packages/aiortc/rtcdtlstransport.py:186: CryptographyDeprecationWarning: This version of cryptography contains a temporary pyOpenSSL fallback path. Upgrade pyOpenSSL now.\n",
      "  value=certificate_digest(self._cert._x509),  # type: ignore\n"
     ]
    },
    {
     "name": "stdout",
     "output_type": "stream",
     "text": [
      "\n",
      "♫♫♫ > \u001b[92mCONNECTED!\u001b[0m\n",
      "\n",
      "♫♫♫ > DUET LIVE STATUS  -  Objects: 0  Requests: 0   Messages: 13  Request Handlers: 1                                \r"
     ]
    }
   ],
   "source": [
    "duet = sy.launch_duet(loopback=True)"
   ]
  },
  {
   "cell_type": "markdown",
   "id": "98ead520",
   "metadata": {},
   "source": [
    "Each client will launch the duet and from the server side the server would join the duet. When a connection is established, then it would show connected in the drop box and a live status which is shown by a star, would animate."
   ]
  },
  {
   "cell_type": "code",
   "execution_count": 4,
   "id": "494f1b43",
   "metadata": {},
   "outputs": [],
   "source": [
    "mnist_iid_train_dls = torch.load('client0.pth')"
   ]
  },
  {
   "cell_type": "code",
   "execution_count": 5,
   "id": "c56f1afb",
   "metadata": {},
   "outputs": [],
   "source": [
    "class CNN(nn.Module):\n",
    "    def __init__(self):\n",
    "        super(CNN, self).__init__()\n",
    "        self.fc = nn.Linear(784, 10)\n",
    "        \n",
    "    def forward(self, x):\n",
    "        x = torch.flatten(x, 1)\n",
    "        x = self.fc(x)\n",
    "        x = F.softmax(x)\n",
    "        return x\n",
    "\n",
    "\n",
    "model_client = CNN()\n"
   ]
  },
  {
   "cell_type": "code",
   "execution_count": 6,
   "id": "0a693565",
   "metadata": {},
   "outputs": [],
   "source": [
    "x = duet.store[0].get()"
   ]
  },
  {
   "cell_type": "markdown",
   "id": "79495f7a",
   "metadata": {},
   "source": [
    "By duet.get - the client got the initial model parameters and the would now run the code upto the end."
   ]
  },
  {
   "cell_type": "code",
   "execution_count": 7,
   "id": "0a1794d1",
   "metadata": {},
   "outputs": [],
   "source": [
    "torch.nn.utils.vector_to_parameters(x,model_client.parameters())"
   ]
  },
  {
   "cell_type": "code",
   "execution_count": 8,
   "id": "d406d3ec",
   "metadata": {},
   "outputs": [],
   "source": [
    "model_client_1 = deepcopy(model_client)"
   ]
  },
  {
   "cell_type": "markdown",
   "id": "d2095ec1",
   "metadata": {},
   "source": [
    "# Model Training"
   ]
  },
  {
   "cell_type": "code",
   "execution_count": 9,
   "id": "dcfb2e25",
   "metadata": {},
   "outputs": [],
   "source": [
    "def set_to_zero_model_weights(model):\n",
    "\n",
    "\n",
    "    for layer_weigths in model.parameters():\n",
    "        layer_weigths.data.sub_(layer_weigths.data)\n",
    "        "
   ]
  },
  {
   "cell_type": "code",
   "execution_count": 10,
   "id": "b46f050b",
   "metadata": {},
   "outputs": [],
   "source": [
    "set_to_zero_model_weights(model_client)"
   ]
  },
  {
   "cell_type": "code",
   "execution_count": 11,
   "id": "91d14ea9",
   "metadata": {},
   "outputs": [],
   "source": [
    "parameters = torch.nn.utils.parameters_to_vector(model_client.parameters())"
   ]
  },
  {
   "cell_type": "code",
   "execution_count": 12,
   "id": "d445b886",
   "metadata": {},
   "outputs": [
    {
     "name": "stderr",
     "output_type": "stream",
     "text": [
      "/Users/syeda/courses/fl/lib/python3.8/site-packages/torch/_tensor.py:1083: UserWarning: The .grad attribute of a Tensor that is not a leaf Tensor is being accessed. Its .grad attribute won't be populated during autograd.backward(). If you indeed want the .grad field to be populated for a non-leaf Tensor, use .retain_grad() on the non-leaf Tensor. If you access the non-leaf Tensor by mistake, make sure you access the leaf Tensor instead. See github.com/pytorch/pytorch/pull/30531 for more informations. (Triggered internally at  /Users/runner/work/pytorch/pytorch/pytorch/build/aten/src/ATen/core/TensorBody.h:482.)\n",
      "  return self._grad\n"
     ]
    },
    {
     "data": {
      "text/plain": [
       "<syft.proxy.torch.TensorPointer at 0x13a84ad30>"
      ]
     },
     "execution_count": 12,
     "metadata": {},
     "output_type": "execute_result"
    }
   ],
   "source": [
    "parameters.send(duet)"
   ]
  },
  {
   "cell_type": "code",
   "execution_count": 13,
   "id": "c4c7970c",
   "metadata": {},
   "outputs": [
    {
     "data": {
      "text/html": [
       "<div>\n",
       "<style scoped>\n",
       "    .dataframe tbody tr th:only-of-type {\n",
       "        vertical-align: middle;\n",
       "    }\n",
       "\n",
       "    .dataframe tbody tr th {\n",
       "        vertical-align: top;\n",
       "    }\n",
       "\n",
       "    .dataframe thead th {\n",
       "        text-align: right;\n",
       "    }\n",
       "</style>\n",
       "<table border=\"1\" class=\"dataframe\">\n",
       "  <thead>\n",
       "    <tr style=\"text-align: right;\">\n",
       "      <th></th>\n",
       "      <th>ID</th>\n",
       "      <th>Tags</th>\n",
       "      <th>Description</th>\n",
       "      <th>object_type</th>\n",
       "    </tr>\n",
       "  </thead>\n",
       "  <tbody>\n",
       "    <tr>\n",
       "      <th>0</th>\n",
       "      <td>&lt;UID: 42a156fc55054551a3ad6f58320be23a&gt;</td>\n",
       "      <td>[]</td>\n",
       "      <td></td>\n",
       "      <td>&lt;class 'torch.Tensor'&gt;</td>\n",
       "    </tr>\n",
       "  </tbody>\n",
       "</table>\n",
       "</div>"
      ],
      "text/plain": [
       "                                        ID Tags Description  \\\n",
       "0  <UID: 42a156fc55054551a3ad6f58320be23a>   []               \n",
       "\n",
       "              object_type  \n",
       "0  <class 'torch.Tensor'>  "
      ]
     },
     "execution_count": 13,
     "metadata": {},
     "output_type": "execute_result"
    }
   ],
   "source": [
    "duet.store.pandas"
   ]
  },
  {
   "cell_type": "code",
   "execution_count": 14,
   "id": "f6c7c4ec",
   "metadata": {},
   "outputs": [
    {
     "name": "stderr",
     "output_type": "stream",
     "text": [
      "[2022-12-03T13:24:39.404628-0500][CRITICAL][logger]][47271] You do not have permission to .get() Object with ID: <UID: 42a156fc55054551a3ad6f58320be23a>Please submit a request.\n",
      "[2022-12-03T13:24:39.407353-0500][CRITICAL][logger]][47271] You do not have permission to .get() Object with ID: <UID: 42a156fc55054551a3ad6f58320be23a>Please submit a request.\n"
     ]
    }
   ],
   "source": [
    "duet.requests.add_handler(action=\"accept\")"
   ]
  },
  {
   "cell_type": "markdown",
   "id": "70cc64db",
   "metadata": {},
   "source": [
    "The client has sent the model update by .send(duet) and has accepted the request from the server to access the updated model."
   ]
  },
  {
   "cell_type": "markdown",
   "id": "52791b1c",
   "metadata": {},
   "source": [
    "The client can see any updates or any data sent from the server in the live status. Also in the live status the request updates from the server will also be shown. If there is no updates then Objects: 0  Requests: 0   Messages: 0  Request Handlers: 0. And if there is any update on any of them the number would change to 0 or 1 or accordingly. "
   ]
  },
  {
   "cell_type": "code",
   "execution_count": null,
   "id": "4904e5b6",
   "metadata": {},
   "outputs": [],
   "source": []
  }
 ],
 "metadata": {
  "kernelspec": {
   "display_name": "Python 3 (ipykernel)",
   "language": "python",
   "name": "python3"
  },
  "language_info": {
   "codemirror_mode": {
    "name": "ipython",
    "version": 3
   },
   "file_extension": ".py",
   "mimetype": "text/x-python",
   "name": "python",
   "nbconvert_exporter": "python",
   "pygments_lexer": "ipython3",
   "version": "3.8.9"
  }
 },
 "nbformat": 4,
 "nbformat_minor": 5
}
