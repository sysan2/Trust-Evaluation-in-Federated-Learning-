{
 "cells": [
  {
   "cell_type": "code",
   "execution_count": null,
   "id": "14d6a4e1",
   "metadata": {},
   "outputs": [],
   "source": [
    "import torch\n",
    "\n",
    "import torch.nn as nn\n",
    "import torch.nn.functional as F\n",
    "import torch.optim as optim\n",
    "\n",
    "from copy import deepcopy\n",
    "\n",
    "import numpy as np\n",
    "import matplotlib.pyplot as plt\n",
    "\n",
    "from create_MNIST_datasets import get_MNIST, plot_samples"
   ]
  },
  {
   "cell_type": "code",
   "execution_count": null,
   "id": "89b313c5",
   "metadata": {},
   "outputs": [],
   "source": [
    "import syft as sy"
   ]
  },
  {
   "cell_type": "code",
   "execution_count": null,
   "id": "5dc270d5",
   "metadata": {},
   "outputs": [],
   "source": [
    "duet = sy.launch_duet(loopback=True)"
   ]
  },
  {
   "cell_type": "code",
   "execution_count": null,
   "id": "494f1b43",
   "metadata": {},
   "outputs": [],
   "source": [
    "mnist_iid_train_dls = torch.load('client0.pth')"
   ]
  },
  {
   "cell_type": "code",
   "execution_count": null,
   "id": "c56f1afb",
   "metadata": {},
   "outputs": [],
   "source": [
    "class CNN(nn.Module):\n",
    "    def __init__(self):\n",
    "        super(CNN, self).__init__()\n",
    "        self.fc = nn.Linear(784, 10)\n",
    "        \n",
    "    def forward(self, x):\n",
    "        x = torch.flatten(x, 1)\n",
    "        x = self.fc(x)\n",
    "        x = F.softmax(x)\n",
    "        return x\n",
    "\n",
    "\n",
    "model_client = CNN()\n"
   ]
  },
  {
   "cell_type": "code",
   "execution_count": null,
   "id": "0a693565",
   "metadata": {},
   "outputs": [],
   "source": [
    "x = duet.store[0].get()"
   ]
  },
  {
   "cell_type": "code",
   "execution_count": null,
   "id": "0a1794d1",
   "metadata": {},
   "outputs": [],
   "source": [
    "torch.nn.utils.vector_to_parameters(x,model_client.parameters())"
   ]
  },
  {
   "cell_type": "code",
   "execution_count": null,
   "id": "d406d3ec",
   "metadata": {},
   "outputs": [],
   "source": [
    "model_client_1 = deepcopy(model_client)"
   ]
  },
  {
   "cell_type": "markdown",
   "id": "d2095ec1",
   "metadata": {},
   "source": [
    "# Model Training"
   ]
  },
  {
   "cell_type": "code",
   "execution_count": null,
   "id": "dcfb2e25",
   "metadata": {},
   "outputs": [],
   "source": [
    "def set_to_zero_model_weights(model):\n",
    "\n",
    "\n",
    "    for layer_weigths in model.parameters():\n",
    "        layer_weigths.data.sub_(layer_weigths.data)\n",
    "        "
   ]
  },
  {
   "cell_type": "code",
   "execution_count": null,
   "id": "b46f050b",
   "metadata": {},
   "outputs": [],
   "source": [
    "set_to_zero_model_weights(model_client)"
   ]
  },
  {
   "cell_type": "code",
   "execution_count": null,
   "id": "91d14ea9",
   "metadata": {},
   "outputs": [],
   "source": [
    "parameters = torch.nn.utils.parameters_to_vector(model_client.parameters())"
   ]
  },
  {
   "cell_type": "code",
   "execution_count": null,
   "id": "d445b886",
   "metadata": {},
   "outputs": [],
   "source": [
    "parameters.send(duet)"
   ]
  },
  {
   "cell_type": "code",
   "execution_count": null,
   "id": "c4c7970c",
   "metadata": {},
   "outputs": [],
   "source": [
    "duet.store.pandas"
   ]
  },
  {
   "cell_type": "code",
   "execution_count": null,
   "id": "f6c7c4ec",
   "metadata": {},
   "outputs": [],
   "source": [
    "duet.requests.add_handler(action=\"accept\")"
   ]
  }
 ],
 "metadata": {
  "kernelspec": {
   "display_name": "Python 3 (ipykernel)",
   "language": "python",
   "name": "python3"
  },
  "language_info": {
   "codemirror_mode": {
    "name": "ipython",
    "version": 3
   },
   "file_extension": ".py",
   "mimetype": "text/x-python",
   "name": "python",
   "nbconvert_exporter": "python",
   "pygments_lexer": "ipython3",
   "version": "3.8.9"
  }
 },
 "nbformat": 4,
 "nbformat_minor": 5
}
