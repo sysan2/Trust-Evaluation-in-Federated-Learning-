{
 "cells": [
  {
   "cell_type": "markdown",
   "id": "10079983",
   "metadata": {},
   "source": [
    "This code is for the client without any attack "
   ]
  },
  {
   "cell_type": "code",
   "execution_count": 1,
   "id": "14d6a4e1",
   "metadata": {},
   "outputs": [],
   "source": [
    "import torch\n",
    "\n",
    "import torch.nn as nn\n",
    "import torch.nn.functional as F\n",
    "import torch.optim as optim\n",
    "\n",
    "from copy import deepcopy\n",
    "\n",
    "import numpy as np\n",
    "import matplotlib.pyplot as plt\n",
    "\n",
    "from create_MNIST_datasets import get_MNIST, plot_samples"
   ]
  },
  {
   "cell_type": "code",
   "execution_count": 2,
   "id": "89b313c5",
   "metadata": {},
   "outputs": [],
   "source": [
    "import syft as sy"
   ]
  },
  {
   "cell_type": "code",
   "execution_count": 3,
   "id": "5dc270d5",
   "metadata": {},
   "outputs": [
    {
     "name": "stdout",
     "output_type": "stream",
     "text": [
      "🎤  🎸  ♪♪♪ Starting Duet ♫♫♫  🎻  🎹\n",
      "\n",
      "♫♫♫ >\u001b[93m DISCLAIMER\u001b[0m: \u001b[1mDuet is an experimental feature currently in beta.\n",
      "♫♫♫ > Use at your own risk.\n",
      "\u001b[0m\n",
      "\u001b[1m\n",
      "    > ❤️ \u001b[91mLove\u001b[0m \u001b[92mDuet\u001b[0m? \u001b[93mPlease\u001b[0m \u001b[94mconsider\u001b[0m \u001b[95msupporting\u001b[0m \u001b[91mour\u001b[0m \u001b[93mcommunity!\u001b[0m\n",
      "    > https://github.com/sponsors/OpenMined\u001b[1m\n",
      "\n",
      "♫♫♫ > Punching through firewall to OpenGrid Network Node at:\n",
      "♫♫♫ > http://ec2-18-218-7-180.us-east-2.compute.amazonaws.com:5000\n",
      "♫♫♫ >\n",
      "♫♫♫ > ...waiting for response from OpenGrid Network... \n",
      "♫♫♫ > \u001b[92mDONE!\u001b[0m\n",
      "\n",
      "♫♫♫ > \u001b[95mSTEP 1:\u001b[0m Send the following code to your Duet Partner!\n",
      "\n",
      "import syft as sy\n",
      "duet = sy.join_duet(loopback=True)\n",
      "\n",
      "♫♫♫ > Connecting...\n"
     ]
    },
    {
     "name": "stderr",
     "output_type": "stream",
     "text": [
      "/Users/syeda/courses/fl/lib/python3.8/site-packages/aiortc/rtcdtlstransport.py:211: CryptographyDeprecationWarning: This version of cryptography contains a temporary pyOpenSSL fallback path. Upgrade pyOpenSSL now.\n",
      "  _openssl_assert(lib.SSL_CTX_use_certificate(ctx, self._cert._x509) == 1)  # type: ignore\n",
      "/Users/syeda/courses/fl/lib/python3.8/site-packages/aiortc/rtcdtlstransport.py:186: CryptographyDeprecationWarning: This version of cryptography contains a temporary pyOpenSSL fallback path. Upgrade pyOpenSSL now.\n",
      "  value=certificate_digest(self._cert._x509),  # type: ignore\n"
     ]
    },
    {
     "name": "stdout",
     "output_type": "stream",
     "text": [
      "\n",
      "♫♫♫ > \u001b[92mCONNECTED!\u001b[0m\n",
      "\n",
      "♫♫♫ > DUET LIVE STATUS  -  Objects: 0  Requests: 0   Messages: 13  Request Handlers: 1                                \r"
     ]
    }
   ],
   "source": [
    "duet = sy.launch_duet(loopback=True)"
   ]
  },
  {
   "cell_type": "markdown",
   "id": "7591d651",
   "metadata": {},
   "source": [
    "Each client will launch the duet and from the server side the server would join the duet. When a connection is established, then it would show connected in the drop box and a live status which is shown by a star, would animate."
   ]
  },
  {
   "cell_type": "code",
   "execution_count": 4,
   "id": "494f1b43",
   "metadata": {},
   "outputs": [],
   "source": [
    "mnist_iid_train_dls = torch.load('client1.pth')"
   ]
  },
  {
   "cell_type": "code",
   "execution_count": 5,
   "id": "0df37213",
   "metadata": {},
   "outputs": [],
   "source": [
    "class CNN(nn.Module):\n",
    "    def __init__(self):\n",
    "        super(CNN, self).__init__()\n",
    "        self.fc = nn.Linear(784, 10)\n",
    "        \n",
    "    def forward(self, x):\n",
    "        x = torch.flatten(x, 1)\n",
    "        x = self.fc(x)\n",
    "        x = F.softmax(x)\n",
    "        return x\n",
    "\n",
    "    \n",
    "\n",
    "model_client = CNN()"
   ]
  },
  {
   "cell_type": "code",
   "execution_count": 6,
   "id": "7bda3201",
   "metadata": {},
   "outputs": [],
   "source": [
    "x = duet.store[0].get()"
   ]
  },
  {
   "cell_type": "markdown",
   "id": "81718e68",
   "metadata": {},
   "source": [
    "By duet.get - the client got the initial model parameters and the would now run the code upto the end."
   ]
  },
  {
   "cell_type": "code",
   "execution_count": 7,
   "id": "17e904e3",
   "metadata": {},
   "outputs": [],
   "source": [
    "torch.nn.utils.vector_to_parameters(x,model_client.parameters())"
   ]
  },
  {
   "cell_type": "code",
   "execution_count": 8,
   "id": "8864ffe0",
   "metadata": {},
   "outputs": [],
   "source": [
    "def loss_classifier(predictions,labels):\n",
    "    \n",
    "    m = nn.LogSoftmax(dim=1)\n",
    "    loss = nn.NLLLoss(reduction=\"mean\")\n",
    "    \n",
    "    return loss(m(predictions) ,labels.view(-1))"
   ]
  },
  {
   "cell_type": "code",
   "execution_count": 9,
   "id": "20873b21",
   "metadata": {},
   "outputs": [
    {
     "name": "stdout",
     "output_type": "stream",
     "text": [
      "tensor(2.3035, grad_fn=<AddBackward0>)\n",
      "tensor(2.3022, grad_fn=<AddBackward0>)\n",
      "tensor(2.3009, grad_fn=<AddBackward0>)\n",
      "tensor(2.2996, grad_fn=<AddBackward0>)\n",
      "tensor(2.2982, grad_fn=<AddBackward0>)\n"
     ]
    },
    {
     "name": "stderr",
     "output_type": "stream",
     "text": [
      "/var/folders/s3/nn8rqkp92c3413g9w6xsc9y00000gn/T/ipykernel_47242/3739989573.py:9: UserWarning: Implicit dimension choice for softmax has been deprecated. Change the call to include dim=X as an argument.\n",
      "  x = F.softmax(x)\n"
     ]
    },
    {
     "name": "stdout",
     "output_type": "stream",
     "text": [
      "tensor(2.2967, grad_fn=<AddBackward0>)\n",
      "tensor(2.2952, grad_fn=<AddBackward0>)\n",
      "tensor(2.2936, grad_fn=<AddBackward0>)\n",
      "tensor(2.2920, grad_fn=<AddBackward0>)\n",
      "tensor(2.2902, grad_fn=<AddBackward0>)\n"
     ]
    }
   ],
   "source": [
    "train_data = mnist_iid_train_dls\n",
    "\n",
    "epochs = 10\n",
    "lr =0.1\n",
    "optimizer=optim.SGD(model_client.parameters(),lr=lr) \n",
    "for e in range(epochs): \n",
    "    total_loss = 0\n",
    "    for idx, (features,labels) in enumerate(train_data):\n",
    "        optimizer.zero_grad()\n",
    "        predictions= model_client(features)\n",
    "        loss=loss_classifier(predictions,labels)\n",
    "        total_loss+=loss;\n",
    "        loss.backward()\n",
    "        optimizer.step()\n",
    "    print(total_loss)\n"
   ]
  },
  {
   "cell_type": "code",
   "execution_count": 10,
   "id": "a9520113",
   "metadata": {},
   "outputs": [],
   "source": [
    "parameters = torch.nn.utils.parameters_to_vector(model_client.parameters())"
   ]
  },
  {
   "cell_type": "code",
   "execution_count": 11,
   "id": "2c1d617e",
   "metadata": {},
   "outputs": [
    {
     "name": "stderr",
     "output_type": "stream",
     "text": [
      "/Users/syeda/courses/fl/lib/python3.8/site-packages/torch/_tensor.py:1083: UserWarning: The .grad attribute of a Tensor that is not a leaf Tensor is being accessed. Its .grad attribute won't be populated during autograd.backward(). If you indeed want the .grad field to be populated for a non-leaf Tensor, use .retain_grad() on the non-leaf Tensor. If you access the non-leaf Tensor by mistake, make sure you access the leaf Tensor instead. See github.com/pytorch/pytorch/pull/30531 for more informations. (Triggered internally at  /Users/runner/work/pytorch/pytorch/pytorch/build/aten/src/ATen/core/TensorBody.h:482.)\n",
      "  return self._grad\n"
     ]
    },
    {
     "data": {
      "text/plain": [
       "<syft.proxy.torch.TensorPointer at 0x1066fa6d0>"
      ]
     },
     "execution_count": 11,
     "metadata": {},
     "output_type": "execute_result"
    }
   ],
   "source": [
    "parameters.send(duet)"
   ]
  },
  {
   "cell_type": "code",
   "execution_count": 12,
   "id": "e99d562b",
   "metadata": {},
   "outputs": [
    {
     "data": {
      "text/html": [
       "<div>\n",
       "<style scoped>\n",
       "    .dataframe tbody tr th:only-of-type {\n",
       "        vertical-align: middle;\n",
       "    }\n",
       "\n",
       "    .dataframe tbody tr th {\n",
       "        vertical-align: top;\n",
       "    }\n",
       "\n",
       "    .dataframe thead th {\n",
       "        text-align: right;\n",
       "    }\n",
       "</style>\n",
       "<table border=\"1\" class=\"dataframe\">\n",
       "  <thead>\n",
       "    <tr style=\"text-align: right;\">\n",
       "      <th></th>\n",
       "      <th>ID</th>\n",
       "      <th>Tags</th>\n",
       "      <th>Description</th>\n",
       "      <th>object_type</th>\n",
       "    </tr>\n",
       "  </thead>\n",
       "  <tbody>\n",
       "    <tr>\n",
       "      <th>0</th>\n",
       "      <td>&lt;UID: 8284af6a527f411fb27cb556de681280&gt;</td>\n",
       "      <td>[]</td>\n",
       "      <td></td>\n",
       "      <td>&lt;class 'torch.Tensor'&gt;</td>\n",
       "    </tr>\n",
       "  </tbody>\n",
       "</table>\n",
       "</div>"
      ],
      "text/plain": [
       "                                        ID Tags Description  \\\n",
       "0  <UID: 8284af6a527f411fb27cb556de681280>   []               \n",
       "\n",
       "              object_type  \n",
       "0  <class 'torch.Tensor'>  "
      ]
     },
     "execution_count": 12,
     "metadata": {},
     "output_type": "execute_result"
    }
   ],
   "source": [
    "duet.store.pandas"
   ]
  },
  {
   "cell_type": "code",
   "execution_count": 13,
   "id": "c82fbd9b",
   "metadata": {},
   "outputs": [
    {
     "name": "stderr",
     "output_type": "stream",
     "text": [
      "[2022-12-03T13:17:21.633298-0500][CRITICAL][logger]][47242] You do not have permission to .get() Object with ID: <UID: 8284af6a527f411fb27cb556de681280>Please submit a request.\n",
      "[2022-12-03T13:17:21.634571-0500][CRITICAL][logger]][47242] You do not have permission to .get() Object with ID: <UID: 8284af6a527f411fb27cb556de681280>Please submit a request.\n"
     ]
    }
   ],
   "source": [
    "duet.requests.add_handler(action=\"accept\")"
   ]
  },
  {
   "cell_type": "markdown",
   "id": "f8333ba2",
   "metadata": {},
   "source": [
    "The client has sent the model update by .send(duet) and has accepted the request from the server to access the updated model."
   ]
  },
  {
   "cell_type": "markdown",
   "id": "299f3a4a",
   "metadata": {},
   "source": [
    "The client can see any updates or any data sent from the server in the live status. Also in the live status the request from the server will also be shown"
   ]
  },
  {
   "cell_type": "code",
   "execution_count": null,
   "id": "8e8c6cc2",
   "metadata": {},
   "outputs": [],
   "source": []
  }
 ],
 "metadata": {
  "kernelspec": {
   "display_name": "Python 3 (ipykernel)",
   "language": "python",
   "name": "python3"
  },
  "language_info": {
   "codemirror_mode": {
    "name": "ipython",
    "version": 3
   },
   "file_extension": ".py",
   "mimetype": "text/x-python",
   "name": "python",
   "nbconvert_exporter": "python",
   "pygments_lexer": "ipython3",
   "version": "3.8.9"
  }
 },
 "nbformat": 4,
 "nbformat_minor": 5
}
