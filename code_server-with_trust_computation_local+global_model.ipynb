{
 "cells": [
  {
   "cell_type": "markdown",
   "id": "c693eb9a",
   "metadata": {},
   "source": [
    "# Importing libraries"
   ]
  },
  {
   "cell_type": "code",
   "execution_count": null,
   "id": "a5bb1d8e",
   "metadata": {},
   "outputs": [],
   "source": [
    "import torch.nn as nn\n",
    "import torch.nn.functional as F\n",
    "import torch.optim as optim\n",
    "\n",
    "from copy import deepcopy\n",
    "\n",
    "import numpy as np\n",
    "import matplotlib.pyplot as plt\n",
    "\n",
    "from torch.utils.data import Dataset, DataLoader\n",
    "from torchvision import transforms, utils\n",
    "import torch\n",
    "\n",
    "import torchsummary\n",
    "from torchsummary import summary\n",
    "\n",
    "\n",
    "from create_MNIST_datasets import get_MNIST, plot_samples\n",
    "from alibi.confidence import TrustScore\n"
   ]
  },
  {
   "cell_type": "code",
   "execution_count": null,
   "id": "56a4ddfe",
   "metadata": {},
   "outputs": [],
   "source": [
    "import syft as sy"
   ]
  },
  {
   "cell_type": "markdown",
   "id": "18c5adb2",
   "metadata": {},
   "source": [
    "# Test set preparation"
   ]
  },
  {
   "cell_type": "code",
   "execution_count": null,
   "id": "d1a58d98",
   "metadata": {},
   "outputs": [],
   "source": [
    "testing_set = torch.load('server_t.pth')\n",
    "train_data = torch.load('server.pth')"
   ]
  },
  {
   "cell_type": "code",
   "execution_count": null,
   "id": "3f88b859",
   "metadata": {},
   "outputs": [],
   "source": [
    "class autoencoder(nn.Module):\n",
    "    def __init__(self):\n",
    "        super().__init__()\n",
    "        self.encoder = nn.Sequential(\n",
    "            nn.Conv2d(1, 16, 3, padding=1),\n",
    "            nn.ReLU(),\n",
    "            nn.MaxPool2d(2),  \n",
    "            nn.Conv2d(16, 8, 3, padding=1),\n",
    "            nn.ReLU(),\n",
    "            nn.MaxPool2d(2), \n",
    "            \n",
    "            nn.Conv2d(8, 4, 3, padding=1),\n",
    "            nn.ReLU(),\n",
    "            nn.MaxPool2d(2), \n",
    "            \n",
    "        )\n",
    "        self.decoder = nn.Sequential(\n",
    "            \n",
    "            nn.ConvTranspose2d(4, 8, 3, stride=2),\n",
    "            nn.ReLU(),\n",
    "            nn.ConvTranspose2d(8, 16, 2, stride=2),\n",
    "            nn.ReLU(),\n",
    "            nn.ConvTranspose2d(16, 32, 2, stride=2),\n",
    "            nn.ReLU(),\n",
    "            nn.Conv2d(32, 1, 3, padding=1) \n",
    "        )\n",
    "\n",
    "    def forward(self, x):\n",
    "        x = self.encoder(x)\n",
    "        x = self.decoder(x)\n",
    "        x = torch.sigmoid(x)  \n",
    "        return x\n",
    "model = autoencoder()"
   ]
  },
  {
   "cell_type": "code",
   "execution_count": null,
   "id": "0d2a03eb",
   "metadata": {},
   "outputs": [],
   "source": [
    "model = torch.load('auto_encoder.pth')"
   ]
  },
  {
   "cell_type": "markdown",
   "id": "1e6a6493",
   "metadata": {},
   "source": [
    "# Connection establishment with client0"
   ]
  },
  {
   "cell_type": "code",
   "execution_count": null,
   "id": "4314ac04",
   "metadata": {},
   "outputs": [],
   "source": [
    "duet_0 = sy.join_duet(loopback=True)"
   ]
  },
  {
   "cell_type": "markdown",
   "id": "5bdd02ab",
   "metadata": {},
   "source": [
    "# Connection establishment with client1"
   ]
  },
  {
   "cell_type": "code",
   "execution_count": null,
   "id": "864c133f",
   "metadata": {},
   "outputs": [],
   "source": [
    "duet_1 = sy.join_duet(loopback=True)"
   ]
  },
  {
   "cell_type": "markdown",
   "id": "1c68e044",
   "metadata": {},
   "source": [
    "# Connection establishment with client2"
   ]
  },
  {
   "cell_type": "code",
   "execution_count": null,
   "id": "aa35af81",
   "metadata": {},
   "outputs": [],
   "source": [
    "duet_2 = sy.join_duet(loopback=True)"
   ]
  },
  {
   "cell_type": "markdown",
   "id": "4b9b179e",
   "metadata": {},
   "source": [
    "# Model creation"
   ]
  },
  {
   "cell_type": "code",
   "execution_count": null,
   "id": "e7c3fabc",
   "metadata": {},
   "outputs": [],
   "source": [
    "class CNN(nn.Module):\n",
    "    def __init__(self):\n",
    "        super(CNN, self).__init__()\n",
    "        self.fc = nn.Linear(784, 10)\n",
    "        \n",
    "    def forward(self, x):\n",
    "        x = torch.flatten(x, 1)\n",
    "        x = self.fc(x)\n",
    "        x = F.softmax(x)\n",
    "        return x\n"
   ]
  },
  {
   "cell_type": "code",
   "execution_count": null,
   "id": "07ce1293",
   "metadata": {},
   "outputs": [],
   "source": [
    "model_server = torch.load('initial_model.pth')\n",
    "model_server_0 = deepcopy(model_server)\n",
    "model_server_1 = deepcopy(model_server)\n",
    "model_server_2 = deepcopy(model_server)"
   ]
  },
  {
   "cell_type": "markdown",
   "id": "ac011d3b",
   "metadata": {},
   "source": [
    "# Initial model parameters"
   ]
  },
  {
   "cell_type": "code",
   "execution_count": null,
   "id": "a0376735",
   "metadata": {},
   "outputs": [],
   "source": [
    "parameters = torch.nn.utils.parameters_to_vector(model_server.parameters())"
   ]
  },
  {
   "cell_type": "markdown",
   "id": "28a8d250",
   "metadata": {},
   "source": [
    "\n",
    "# The initial model parameters sent to clients"
   ]
  },
  {
   "cell_type": "code",
   "execution_count": null,
   "id": "01cbebae",
   "metadata": {},
   "outputs": [],
   "source": [
    "parameters.send(duet_0)"
   ]
  },
  {
   "cell_type": "code",
   "execution_count": null,
   "id": "8ffc5454",
   "metadata": {},
   "outputs": [],
   "source": [
    "parameters.send(duet_1)"
   ]
  },
  {
   "cell_type": "code",
   "execution_count": null,
   "id": "94652f7a",
   "metadata": {},
   "outputs": [],
   "source": [
    "parameters.send(duet_2)"
   ]
  },
  {
   "cell_type": "markdown",
   "id": "431e6415",
   "metadata": {},
   "source": [
    "# Model update from client0"
   ]
  },
  {
   "cell_type": "code",
   "execution_count": null,
   "id": "77c58c3f",
   "metadata": {},
   "outputs": [],
   "source": [
    "duet_0.store.pandas"
   ]
  },
  {
   "cell_type": "code",
   "execution_count": null,
   "id": "36db58f3",
   "metadata": {},
   "outputs": [],
   "source": [
    "try:\n",
    "    duet_0.store[0].get()\n",
    "except Exception as e:\n",
    "    print(e)"
   ]
  },
  {
   "cell_type": "code",
   "execution_count": null,
   "id": "904f09ee",
   "metadata": {},
   "outputs": [],
   "source": [
    "duet_0.store[0].request(reason=\"Please approve,updated parameters are needeed for aggregating\")"
   ]
  },
  {
   "cell_type": "code",
   "execution_count": null,
   "id": "a2e4d3ea",
   "metadata": {},
   "outputs": [],
   "source": [
    "y0 = duet_0.store[0].get()"
   ]
  },
  {
   "cell_type": "code",
   "execution_count": null,
   "id": "794d9d5e",
   "metadata": {},
   "outputs": [],
   "source": [
    "torch.nn.utils.vector_to_parameters(y0,model_server_0.parameters())"
   ]
  },
  {
   "cell_type": "markdown",
   "id": "6c8ef5c2",
   "metadata": {},
   "source": [
    "# Model update from client1"
   ]
  },
  {
   "cell_type": "code",
   "execution_count": null,
   "id": "5993aa9e",
   "metadata": {},
   "outputs": [],
   "source": [
    "duet_1.store.pandas"
   ]
  },
  {
   "cell_type": "code",
   "execution_count": null,
   "id": "4f366ee3",
   "metadata": {},
   "outputs": [],
   "source": [
    "try:\n",
    "    duet_1.store[0].get()\n",
    "except Exception as e:\n",
    "    print(e)"
   ]
  },
  {
   "cell_type": "code",
   "execution_count": null,
   "id": "94b44356",
   "metadata": {},
   "outputs": [],
   "source": [
    "duet_1.store[0].request(reason=\"Please approve,updated parameters are needeed for aggregating\")"
   ]
  },
  {
   "cell_type": "code",
   "execution_count": null,
   "id": "3a8092e0",
   "metadata": {},
   "outputs": [],
   "source": [
    "y1 = duet_1.store[0].get()"
   ]
  },
  {
   "cell_type": "code",
   "execution_count": null,
   "id": "df48ec75",
   "metadata": {},
   "outputs": [],
   "source": []
  },
  {
   "cell_type": "markdown",
   "id": "f4e285d6",
   "metadata": {},
   "source": [
    "# Model update for client 2"
   ]
  },
  {
   "cell_type": "code",
   "execution_count": null,
   "id": "35a31270",
   "metadata": {},
   "outputs": [],
   "source": [
    "duet_2.store.pandas"
   ]
  },
  {
   "cell_type": "code",
   "execution_count": null,
   "id": "146e98b1",
   "metadata": {},
   "outputs": [],
   "source": [
    "try:\n",
    "    duet_2.store[0].get()\n",
    "except Exception as e:\n",
    "    print(e)"
   ]
  },
  {
   "cell_type": "code",
   "execution_count": null,
   "id": "94c63004",
   "metadata": {},
   "outputs": [],
   "source": [
    "duet_2.store[0].request(reason=\"Please approve,updated parameters are needeed for aggregating\")"
   ]
  },
  {
   "cell_type": "code",
   "execution_count": null,
   "id": "4d5207b3",
   "metadata": {},
   "outputs": [],
   "source": [
    "y2 = duet_2.store[0].get()"
   ]
  },
  {
   "cell_type": "code",
   "execution_count": null,
   "id": "b74fb6eb",
   "metadata": {},
   "outputs": [],
   "source": [
    "def trust_score(test_samples, model_update, model):\n",
    "    ts = TrustScore()\n",
    "    encoded_tests=[]\n",
    "    model_pred_test=[]\n",
    "    x_tests=[]\n",
    "    y_tests=[]\n",
    "    for idx, (features,labels) in enumerate(test_samples):\n",
    "        x_tests.append(features)\n",
    "        predictions = model.encoder(features)\n",
    "        encoded_tests.append(predictions)\n",
    "        pred_test = model_update(features)\n",
    "        model_pred_test.append(pred_test)\n",
    "        y_tests.append(labels)\n",
    "        ts.fit(encoded_tests[0].detach().numpy(), y_tests[0], classes=10) \n",
    "        score, closest_class = ts.score(encoded_tests[0].detach().numpy(),model_pred_test[0].detach().numpy(), k=5)\n",
    "        print(score)\n",
    "        print(np.average(score))"
   ]
  },
  {
   "cell_type": "markdown",
   "id": "fe063a82",
   "metadata": {},
   "source": [
    "# Trust score calculation local model 0"
   ]
  },
  {
   "cell_type": "code",
   "execution_count": null,
   "id": "88652158",
   "metadata": {},
   "outputs": [],
   "source": [
    "torch.nn.utils.vector_to_parameters(y0,model_server_0.parameters())"
   ]
  },
  {
   "cell_type": "code",
   "execution_count": null,
   "id": "20eac0a5",
   "metadata": {},
   "outputs": [],
   "source": [
    "trust_score_local_model_0 = trust_score(testing_set, model_server_0, model)"
   ]
  },
  {
   "cell_type": "markdown",
   "id": "4b351dc6",
   "metadata": {},
   "source": [
    "# Trust score calculation for local model 1"
   ]
  },
  {
   "cell_type": "code",
   "execution_count": null,
   "id": "25d8bc76",
   "metadata": {},
   "outputs": [],
   "source": [
    "torch.nn.utils.vector_to_parameters(y1,model_server_1.parameters())"
   ]
  },
  {
   "cell_type": "code",
   "execution_count": null,
   "id": "9d03ca32",
   "metadata": {},
   "outputs": [],
   "source": [
    "trust_score_local_model_1 = trust_score(testing_set, model_server_1, model)"
   ]
  },
  {
   "cell_type": "markdown",
   "id": "dd930438",
   "metadata": {},
   "source": [
    "#  Trust score calculation for local model 2"
   ]
  },
  {
   "cell_type": "code",
   "execution_count": null,
   "id": "0027252d",
   "metadata": {},
   "outputs": [],
   "source": [
    "torch.nn.utils.vector_to_parameters(y2,model_server_2.parameters())"
   ]
  },
  {
   "cell_type": "code",
   "execution_count": null,
   "id": "b97c7d52",
   "metadata": {},
   "outputs": [],
   "source": [
    "trust_score_local_model_2 = trust_score(testing_set, model_server_2, model)"
   ]
  },
  {
   "cell_type": "markdown",
   "id": "b5ca4c90",
   "metadata": {},
   "source": [
    "# Trust score calculation for global model"
   ]
  },
  {
   "cell_type": "code",
   "execution_count": null,
   "id": "ddb62835",
   "metadata": {},
   "outputs": [],
   "source": [
    "y = (y1+y2+y0)/3\n",
    "torch.nn.utils.vector_to_parameters(y,model_server.parameters())"
   ]
  },
  {
   "cell_type": "code",
   "execution_count": null,
   "id": "e53393f7",
   "metadata": {},
   "outputs": [],
   "source": [
    "trust_score_global_model = trust_score(testing_set, model_server, model)"
   ]
  }
 ],
 "metadata": {
  "kernelspec": {
   "display_name": "Python 3 (ipykernel)",
   "language": "python",
   "name": "python3"
  },
  "language_info": {
   "codemirror_mode": {
    "name": "ipython",
    "version": 3
   },
   "file_extension": ".py",
   "mimetype": "text/x-python",
   "name": "python",
   "nbconvert_exporter": "python",
   "pygments_lexer": "ipython3",
   "version": "3.8.9"
  }
 },
 "nbformat": 4,
 "nbformat_minor": 5
}
